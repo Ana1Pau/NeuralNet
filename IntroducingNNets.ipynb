{
  "nbformat": 4,
  "nbformat_minor": 0,
  "metadata": {
    "colab": {
      "name": "IntroducingNNets.ipynb",
      "provenance": [],
      "collapsed_sections": [],
      "authorship_tag": "ABX9TyN4oDThv1IiUrol8dYVctJa",
      "include_colab_link": true
    },
    "kernelspec": {
      "name": "python3",
      "display_name": "Python 3"
    }
  },
  "cells": [
    {
      "cell_type": "markdown",
      "metadata": {
        "id": "view-in-github",
        "colab_type": "text"
      },
      "source": [
        "<a href=\"https://colab.research.google.com/github/Ana1Pau/NeuralNet/blob/main/IntroducingNNets.ipynb\" target=\"_parent\"><img src=\"https://colab.research.google.com/assets/colab-badge.svg\" alt=\"Open In Colab\"/></a>"
      ]
    },
    {
      "cell_type": "code",
      "metadata": {
        "id": "oxu4LbgvORyq"
      },
      "source": [
        "# IntroducingNNets\n",
        "\n",
        "# NeuralNet\n",
        "Implementation of a NN\n",
        "\n",
        "！pip3 install utils\n",
        "import utils\n",
        "\n",
        "## Cargamos librerias\n",
        "from sklearn.datasets import load_iris\n",
        "import numpy as np\n",
        "import pandas as pd\n",
        "import matplotlib.pyplot as plt\n",
        "from utils import *\n",
        "\n",
        "\n",
        "## Inicializar parametros\n",
        "def init_params(X, Y, seed=1234):\n",
        "    np.random.seed(seed)\n",
        "    n, m = X.shape\n",
        "    W = np. random.randn(1, m)x(1/np.sqrt(m))\n",
        "    b = 0\n",
        "    return W, b\n",
        "\n",
        "## Combinacion lineal ## First Layer pre-activation\n",
        "def z(X, W, b):\n",
        "      return np.dot(X, W.transpose())+ b\n",
        "\n",
        "## Funcion de activacion\n",
        "def a(z):\n",
        "     return 1/(1+np.exp(-z))\n",
        "\n",
        "def loss(Y, A):\n",
        "    return -1*np.mean(Y*np.log(A) + (1-Y)*np.log(1-A))\n",
        "\n",
        "def update_a(X, Y, W, b, A, learning_rate=.001):\n",
        "     W = W - learning_rate*(1/n)*np.dot((A-Y).transpose(), X)\n",
        "     b = b - learning_rate*(1/n)*np.sum(A-Y)\n",
        "\n",
        "def predict(X, W, b, thresh=.5):\n",
        "    Z = z(X, W, b)\n",
        "    A = a(Z)\n",
        "    return A, A >= thresh\n",
        "## Entrenamiento\n",
        "def train(X, Y, seed=1234, learning_rate=.001, epochs=20):\n",
        "    ## Inicializar parametros\n",
        "    loss_h = []\n",
        "    W, b = init_params(X, Y, seed)\n",
        "    for _ in range(epochs):\n",
        "        # Z\n",
        "        Z = z(X, W, b)\n",
        "        # A\n",
        "        A = a(Z)\n",
        "        # Perdida\n",
        "        l = loss(Y, A)\n",
        "        if not _ % 100:\n",
        "            print(\"Perdida: %s | Iter: %s\" % (l, _))\n",
        "        loss_h.append(l)\n",
        "        # Update parameters\n",
        "        W, b = update_a(X, Y, W, b, A, learning_rate)\n",
        "    return W, b, loss_h\n",
        "    \n",
        "   ## Cargamos los datos\n",
        "    data = load_iris()\n",
        "    X = data.data \n",
        "    Y = data.target\n",
        "   ## Clasificacion binaria\n",
        "    Y = np.where(Y < 2, 1, 0).reshape(-1, 1)\n",
        "    X = X\n",
        "   ## Obtenemos parametros de dimensión.\n",
        "    n, m = X.shape\n",
        "   ## Normalizamos los datos\n",
        "    X = (X - np.sum(X, axis=1).reshape(n, 1)/n)/np.std(X, axis=1).reshape(n, 1)\n"
      ],
      "execution_count": null,
      "outputs": []
    }
  ]
}